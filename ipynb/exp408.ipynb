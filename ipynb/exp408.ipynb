{
 "cells": [
  {
   "cell_type": "code",
   "execution_count": 1,
   "metadata": {
    "collapsed": false
   },
   "outputs": [],
   "source": [
    "import matplotlib as mpl\n",
    "mpl.use('Agg')\n",
    "\n",
    "import matplotlib.pyplot as plt\n",
    "from matplotlib.backends.backend_pdf import PdfPages\n",
    "\n",
    "import os, sys\n",
    "import numpy as np\n",
    "from pykdf.kdf import load_kdf\n",
    "\n",
    "# --\n",
    "def plot(name, pp):\n",
    "    res = load_kdf(name)\n",
    "    ys = res['ys']\n",
    "    \n",
    "    times = res['times']\n",
    "    idx_r = res['idx_R']\n",
    "    idx_h = res['idx_H']\n",
    "    idx_in = res['idx_IN']\n",
    "\n",
    "    plt.figure(figsize=(9, 9))\n",
    "\n",
    "    tit = \"{}\\nd:{:10f}, w_e:{:10f}\\nw_ie:{:10f}, w_ei:{:10f}\\nw_ee:{:10f}, w_ii:{:10f}\".format(\n",
    "        name,\n",
    "        float(res['d']), float(res['w_e']), float(res['w_ie']),\n",
    "        float(res['w_ei']), float(res['w_ee']), float(res['w_ii']))\n",
    "\n",
    "    n_plot = 3\n",
    "    plot_n = 1\n",
    "    plt.subplot(n_plot, 1, plot_n)\n",
    "    plt.title(tit)\n",
    "    plt.plot(times, ys[:, idx_in], label='IN', color='k')\n",
    "    plt.legend()\n",
    "    plt.ylabel(\"IN\")\n",
    "\n",
    "    plot_n += 1 \n",
    "    plt.subplot(n_plot, 1, plot_n)\n",
    "    plt.plot(times, ys[:, idx_r[0]], color='k', label='E')\n",
    "    plt.plot(times, ys[:, idx_r[1]], color='r', label='I')\n",
    "    plt.legend()\n",
    "    plt.ylabel(\"R\")\n",
    "    \n",
    "    plot_n += 1\n",
    "    plt.subplot(n_plot, 1, plot_n)\n",
    "    plt.plot(times, ys[:, idx_h[0]], label='EE')\n",
    "    plt.plot(times, ys[:, idx_h[1]], label='EI')\n",
    "    plt.plot(times, ys[:, idx_h[2]], label='IE')\n",
    "    plt.plot(times, ys[:, idx_h[3]], label='II')\n",
    "    plt.ylabel(\"G\")\n",
    "    plt.legend()\n",
    "    plt.xlabel(\"Time (s)\")\n",
    "\n",
    "    pp.savefig()\n",
    "    plt.close()\n",
    "\n",
    "# --\n",
    "num = 408\n",
    "save_path = \"/home/ejp/src/pacological/data/exp{}\".format(num)\n",
    "\n",
    "with PdfPages(os.path.join(save_path, 'plots_{}.pdf'.format(num))) as pdf:\n",
    "    names = range(0, 2499)\n",
    "    for i in names:\n",
    "        name = os.path.join(save_path, \"{}.hdf5\".format(i))\n",
    "        plot(name, pdf)"
   ]
  },
  {
   "cell_type": "code",
   "execution_count": null,
   "metadata": {
    "collapsed": true
   },
   "outputs": [],
   "source": []
  }
 ],
 "metadata": {
  "kernelspec": {
   "display_name": "Python 2",
   "language": "python",
   "name": "python2"
  },
  "language_info": {
   "codemirror_mode": {
    "name": "ipython",
    "version": 2
   },
   "file_extension": ".py",
   "mimetype": "text/x-python",
   "name": "python",
   "nbconvert_exporter": "python",
   "pygments_lexer": "ipython2",
   "version": "2.7.12"
  }
 },
 "nbformat": 4,
 "nbformat_minor": 0
}
