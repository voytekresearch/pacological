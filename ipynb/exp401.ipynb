{
 "cells": [
  {
   "cell_type": "code",
   "execution_count": 1,
   "metadata": {
    "collapsed": false
   },
   "outputs": [],
   "source": [
    "import matplotlib.pyplot as plt\n",
    "# %matplotlib inline\n",
    "# import seaborn as sns\n",
    "# sns.set_style(\"white\")\n",
    "# sns.set_context(\"talk\")\n",
    "from matplotlib.backends.backend_pdf import PdfPages \n",
    "\n",
    "import os, sys\n",
    "import numpy as np"
   ]
  },
  {
   "cell_type": "code",
   "execution_count": 28,
   "metadata": {
    "collapsed": false
   },
   "outputs": [],
   "source": [
    "def plot(name, pp):\n",
    "\n",
    "    res = np.load(name)\n",
    "    ys = res['ys']\n",
    "    times = res['times']\n",
    "    idxs = res['idxs'].item()\n",
    "    \n",
    "    plt.figure(figsize=(10, 10))\n",
    "\n",
    "    tit = \"d:{:10f}, w_e:{:10f}\\nw_ie:{:10f}, w_ei:{:10f}\\nw_ee:{:10f}, w_ii:{:10f}\".format(\n",
    "        float(res['d']), float(res['w_e']), float(res['w_ie']), float(res['w_ei']), float(res['w_ee']), \n",
    "        float(res['w_ii']))\n",
    "    \n",
    "    n_plot = 3\n",
    "    plot_n = 1\n",
    "    plt.subplot(n_plot, 1, plot_n)\n",
    "    plt.title(tit)\n",
    "    plt.plot(times, ys[:, idxs['IN']], label='IN', color='k')\n",
    "    plt.legend()\n",
    "    plt.ylabel(\"IN\")\n",
    "    plot_n += 1\n",
    "\n",
    "    plt.subplot(n_plot, 1, plot_n)\n",
    "    plt.plot(times, ys[:, idxs['R'][0]], color='k', label='E')\n",
    "    plt.plot(times, ys[:, idxs['R'][1]], color='r', label='I')    \n",
    "    plt.legend()\n",
    "    plt.ylabel(\"R\")\n",
    "    plot_n += 1\n",
    "\n",
    "    plt.subplot(n_plot, 1, plot_n)\n",
    "    plt.plot(times, ys[:, idxs['H'][0]], label='EE')\n",
    "    plt.plot(times, ys[:, idxs['H'][1]], label='EI')\n",
    "    plt.plot(times, ys[:, idxs['H'][2]], label='IE')\n",
    "    plt.plot(times, ys[:, idxs['H'][3]], label='II')\n",
    "    plt.ylabel(\"G\")\n",
    "    plt.legend()\n",
    "    plt.xlabel(\"Time (s)\")\n",
    "    \n",
    "    pp.savefig()\n",
    "    plt.close()"
   ]
  },
  {
   "cell_type": "code",
   "execution_count": 29,
   "metadata": {
    "collapsed": false,
    "scrolled": true
   },
   "outputs": [
    {
     "name": "stdout",
     "output_type": "stream",
     "text": [
      "0.001\n",
      "0.001\n",
      "0.001\n",
      "0.001\n",
      "0.00568421052632\n",
      "0.00568421052632\n",
      "0.00568421052632\n",
      "0.00568421052632\n",
      "0.0103684210526\n",
      "0.0103684210526\n",
      "0.0103684210526\n",
      "0.0103684210526\n",
      "0.0150526315789\n",
      "0.0150526315789\n",
      "0.0150526315789\n",
      "0.0150526315789\n",
      "0.0197368421053\n",
      "0.0197368421053\n",
      "0.0197368421053\n",
      "0.0197368421053\n",
      "0.0244210526316\n",
      "0.0244210526316\n",
      "0.0244210526316\n",
      "0.0244210526316\n",
      "0.0291052631579\n",
      "0.0291052631579\n",
      "0.0291052631579\n",
      "0.0291052631579\n",
      "0.0337894736842\n",
      "0.0337894736842\n",
      "0.0337894736842\n",
      "0.0337894736842\n",
      "0.0384736842105\n",
      "0.0384736842105\n",
      "0.0384736842105\n",
      "0.0384736842105\n",
      "0.0431578947368\n",
      "0.0431578947368\n",
      "0.0431578947368\n",
      "0.0431578947368\n",
      "0.0478421052632\n",
      "0.0478421052632\n",
      "0.0478421052632\n",
      "0.0478421052632\n",
      "0.0525263157895\n",
      "0.0525263157895\n",
      "0.0525263157895\n",
      "0.0525263157895\n",
      "0.0572105263158\n",
      "0.0572105263158\n",
      "0.0572105263158\n",
      "0.0572105263158\n",
      "0.0618947368421\n",
      "0.0618947368421\n",
      "0.0618947368421\n",
      "0.0618947368421\n",
      "0.0665789473684\n",
      "0.0665789473684\n",
      "0.0665789473684\n",
      "0.0665789473684\n",
      "0.0712631578947\n",
      "0.0712631578947\n",
      "0.0712631578947\n",
      "0.0712631578947\n",
      "0.0759473684211\n",
      "0.0759473684211\n",
      "0.0759473684211\n",
      "0.0759473684211\n",
      "0.0806315789474\n",
      "0.0806315789474\n",
      "0.0806315789474\n",
      "0.0806315789474\n",
      "0.0853157894737\n",
      "0.0853157894737\n",
      "0.0853157894737\n",
      "0.0853157894737\n",
      "0.09\n",
      "0.09\n",
      "0.09\n"
     ]
    }
   ],
   "source": [
    "with PdfPages('../data/exp401/bw3_ex.pdf') as pdf:\n",
    "    names = range(0, 450)\n",
    "    for i in names:\n",
    "        name = \"../data/exp401/{}.npz\".format(i)\n",
    "        \n",
    "        plot(name, pdf)"
   ]
  },
  {
   "cell_type": "code",
   "execution_count": null,
   "metadata": {
    "collapsed": true
   },
   "outputs": [],
   "source": []
  },
  {
   "cell_type": "code",
   "execution_count": null,
   "metadata": {
    "collapsed": true
   },
   "outputs": [],
   "source": []
  }
 ],
 "metadata": {
  "kernelspec": {
   "display_name": "Python [Root]",
   "language": "python",
   "name": "Python [Root]"
  },
  "language_info": {
   "codemirror_mode": {
    "name": "ipython",
    "version": 2
   },
   "file_extension": ".py",
   "mimetype": "text/x-python",
   "name": "python",
   "nbconvert_exporter": "python",
   "pygments_lexer": "ipython2",
   "version": "2.7.12"
  }
 },
 "nbformat": 4,
 "nbformat_minor": 0
}
