{
 "cells": [
  {
   "cell_type": "code",
   "execution_count": 14,
   "metadata": {
    "collapsed": false
   },
   "outputs": [],
   "source": [
    "import matplotlib.pyplot as plt\n",
    "%matplotlib inline\n",
    "\n",
    "from pacological.fi import lif\n",
    "import fakespikes.util as sp\n",
    "import numpy as np"
   ]
  },
  {
   "cell_type": "code",
   "execution_count": 15,
   "metadata": {
    "collapsed": false
   },
   "outputs": [],
   "source": [
    "# Overall oscillation effect\n",
    "t = 40\n",
    "Is = np.linspace(0, 50e-3, 100)\n",
    "\n",
    "r_e = 135\n",
    "r_i = 135\n",
    "min_r = 30\n",
    "\n",
    "w_e = 4e-9\n",
    "w_i = 1.6e-8\n",
    "\n",
    "k=1\n",
    "f=10"
   ]
  },
  {
   "cell_type": "code",
   "execution_count": 16,
   "metadata": {
    "collapsed": false
   },
   "outputs": [
    {
     "name": "stdout",
     "output_type": "stream",
     "text": [
      ">>> Creating fi.\n",
      "Starting simulation at t=0. s for a duration of 40. s\n",
      "5.2591 s (13%) simulated in 10s, estimated 1m 6s remaining.\n",
      "10.4075 s (26%) simulated in 20s, estimated 57s remaining.\n",
      "15.5804 s (38%) simulated in 30s, estimated 47s remaining.\n",
      "20.8543 s (52%) simulated in 40s, estimated 37s remaining.\n",
      "26.1267 s (65%) simulated in 50s, estimated 27s remaining.\n",
      "31.3472 s (78%) simulated in 1m 0s, estimated 17s remaining.\n",
      "36.6329 s (91%) simulated in 1m 10s, estimated 6s remaining.\n",
      "40. s (100%) simulated in 1m 16s\n",
      ">>> Creating fi.\n",
      "Starting simulation at t=0. s for a duration of 40. s\n",
      "5.8564 s (14%) simulated in 10s, estimated 58s remaining.\n",
      "11.8173 s (29%) simulated in 20s, estimated 48s remaining.\n",
      "17.7367 s (44%) simulated in 30s, estimated 38s remaining.\n",
      "23.7138 s (59%) simulated in 40s, estimated 27s remaining.\n",
      "29.5735 s (73%) simulated in 50s, estimated 18s remaining.\n",
      "35.4782 s (88%) simulated in 1m 0s, estimated 8s remaining.\n",
      "40. s (100%) simulated in 1m 7s\n"
     ]
    }
   ],
   "source": [
    "fi1, trains1, g_es1, g_is1, vs1 = lif(t, Is, 0, r_e=r_e, r_i=r_i, w_e=w_e, w_i=w_i, min_rate=min_r, return_trains=True)\n",
    "ns1, ts1 = sp.spikedict_to(trains1)\n",
    "\n",
    "fi2, trains2, g_es2, g_is2, vs2 = lif(t, Is, f, r_e=k*r_e, r_i=k*r_i, w_e=w_e, w_i=w_i, min_rate=min_r, return_trains=True)\n",
    "ns2, ts2 = sp.spikedict_to(trains2)"
   ]
  },
  {
   "cell_type": "code",
   "execution_count": 17,
   "metadata": {
    "collapsed": false
   },
   "outputs": [
    {
     "data": {
      "text/plain": [
       "<matplotlib.legend.Legend at 0x7f6241315bd0>"
      ]
     },
     "execution_count": 17,
     "metadata": {},
     "output_type": "execute_result"
    },
    {
     "data": {
      "image/png": "[encoded data removed]",
      "text/plain": [
       "<matplotlib.figure.Figure at 0x7f6241486750>"
      ]
     },
     "metadata": {},
     "output_type": "display_data"
    }
   ],
   "source": [
    "plt.plot(Is * 1000, fi1, color='grey', label=\"Constant\")\n",
    "plt.plot(Is * 1000, fi2, color='k', label=\"10 Hz oscillation\")\n",
    "plt.xlabel(\"I (mvol)\")\n",
    "plt.ylabel(\"Rate (Hz)\")\n",
    "plt.legend()"
   ]
  },
  {
   "cell_type": "code",
   "execution_count": 18,
   "metadata": {
    "collapsed": false
   },
   "outputs": [
    {
     "name": "stdout",
     "output_type": "stream",
     "text": [
      ">>> Creating fi.\n",
      "Starting simulation at t=0. s for a duration of 40. s\n",
      "5.2202 s (13%) simulated in 10s, estimated 1m 7s remaining.\n",
      "10.4793 s (26%) simulated in 20s, estimated 56s remaining.\n",
      "15.7321 s (39%) simulated in 30s, estimated 46s remaining.\n",
      "20.9909 s (52%) simulated in 40s, estimated 36s remaining.\n",
      "26.17 s (65%) simulated in 50s, estimated 26s remaining.\n",
      "31.331 s (78%) simulated in 1m 0s, estimated 17s remaining.\n",
      "36.5512 s (91%) simulated in 1m 10s, estimated 7s remaining.\n",
      "40. s (100%) simulated in 1m 16s\n",
      ">>> Creating fi.\n",
      "Starting simulation at t=0. s for a duration of 40. s\n",
      "5.2324 s (13%) simulated in 10s, estimated 1m 6s remaining.\n",
      "10.5135 s (26%) simulated in 20s, estimated 56s remaining.\n",
      "15.7058 s (39%) simulated in 30s, estimated 46s remaining.\n",
      "20.8918 s (52%) simulated in 40s, estimated 37s remaining.\n",
      "26.0875 s (65%) simulated in 50s, estimated 27s remaining.\n",
      "31.1991 s (77%) simulated in 1m 0s, estimated 17s remaining.\n",
      "36.4083 s (91%) simulated in 1m 10s, estimated 7s remaining.\n",
      "40. s (100%) simulated in 1m 16s\n"
     ]
    }
   ],
   "source": [
    "# FI at peak and trough (no osc)\n",
    "t = 40\n",
    "Is = np.linspace(0, 50e-3, 100)\n",
    "r_e_p = 135\n",
    "r_i_p = 135\n",
    "r_e_t = 30\n",
    "r_i_t = 30\n",
    "\n",
    "w_e = 4e-9\n",
    "w_i = 1.6e-8\n",
    "\n",
    "k=1\n",
    "\n",
    "fi1, trains1, g_es1, g_is1, vs1 = lif(t, Is, 0, r_e=r_e_p, r_i=r_i_p, w_e=w_e, w_i=w_i, return_trains=True)\n",
    "ns1, ts1 = sp.spikedict_to(trains1)\n",
    "\n",
    "fi2, trains2, g_es2, g_is2, vs2 = lif(t, Is, 0, r_e=k*r_e_t, r_i=k*r_i_t, w_e=w_e, w_i=w_i, return_trains=True)\n",
    "ns2, ts2 = sp.spikedict_to(trains2)"
   ]
  },
  {
   "cell_type": "code",
   "execution_count": 19,
   "metadata": {
    "collapsed": false
   },
   "outputs": [
    {
     "data": {
      "text/plain": [
       "<matplotlib.legend.Legend at 0x7f623fc105d0>"
      ]
     },
     "execution_count": 19,
     "metadata": {},
     "output_type": "execute_result"
    },
    {
     "data": {
      "image/png": "[encoded data removed]",
      "text/plain": [
       "<matplotlib.figure.Figure at 0x7f6241355850>"
      ]
     },
     "metadata": {},
     "output_type": "display_data"
    }
   ],
   "source": [
    "plt.plot(Is, fi1, color='b', label=\"Peak\")\n",
    "plt.plot(Is, fi2, color='g', label=\"Trough\")\n",
    "plt.legend()"
   ]
  },
  {
   "cell_type": "code",
   "execution_count": null,
   "metadata": {
    "collapsed": true
   },
   "outputs": [],
   "source": []
  },
  {
   "cell_type": "code",
   "execution_count": null,
   "metadata": {
    "collapsed": true
   },
   "outputs": [],
   "source": []
  }
 ],
 "metadata": {
  "kernelspec": {
   "display_name": "Python 2",
   "language": "python",
   "name": "python2"
  },
  "language_info": {
   "codemirror_mode": {
    "name": "ipython",
    "version": 2
   },
   "file_extension": ".py",
   "mimetype": "text/x-python",
   "name": "python",
   "nbconvert_exporter": "python",
   "pygments_lexer": "ipython2",
   "version": "2.7.12"
  }
 },
 "nbformat": 4,
 "nbformat_minor": 0
}
