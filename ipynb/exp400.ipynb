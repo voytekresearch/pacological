{
 "cells": [
  {
   "cell_type": "code",
   "execution_count": 5,
   "metadata": {
    "collapsed": false
   },
   "outputs": [],
   "source": [
    "import matplotlib.pyplot as plt\n",
    "# %matplotlib inline\n",
    "import seaborn as sns\n",
    "sns.set_style(\"white\")\n",
    "sns.set_context(\"talk\")\n",
    "from matplotlib.backends.backend_pdf import PdfPages \n",
    "\n",
    "import os, sys\n",
    "import numpy as np"
   ]
  },
  {
   "cell_type": "code",
   "execution_count": 23,
   "metadata": {
    "collapsed": false
   },
   "outputs": [],
   "source": [
    "def plot(name, pp):\n",
    "\n",
    "    res = np.load(name)\n",
    "    ys = res['ys']\n",
    "    times = res['times']\n",
    "\n",
    "    plt.figure(figsize=(10, 10))\n",
    "\n",
    "    tit = \"d:{}, w_e:{}\\nw_ie:{}, w_ei:{}\\nw_ee:{}, w_ii:{}\".format(\n",
    "        res['d'], res['w_e'], res['w_ei'], res['w_ei'], res['w_ee'], res['w_ii'])\n",
    "    n_plot = 3\n",
    "    plot_n = 1\n",
    "    plt.subplot(n_plot, 1, plot_n)\n",
    "    plt.title(tit)\n",
    "    plt.plot(times, ys[:,0], label='E')\n",
    "    plt.plot(times, ys[:,1], label='I')\n",
    "    plt.legend()\n",
    "    plt.ylabel(\"R\")\n",
    "    plot_n += 1\n",
    "\n",
    "    plt.subplot(n_plot, 1, plot_n)\n",
    "    plt.plot(times, ys[:,2], label='EE')\n",
    "    plt.plot(times, ys[:,3], label='EI')\n",
    "    plt.plot(times, ys[:,4], label='IE')\n",
    "    plt.plot(times, ys[:,5],label='II')\n",
    "    plt.legend()\n",
    "    plt.ylabel(\"G\")\n",
    "    plot_n += 1\n",
    "\n",
    "    plt.subplot(n_plot, 1, plot_n)\n",
    "    plt.plot(times, ys[:,2], label='EE')\n",
    "    plt.plot(times, ys[:,3], label='EI')\n",
    "    plt.plot(times, ys[:,4], label='IE')\n",
    "    plt.plot(times, ys[:,5],label='II')\n",
    "    plt.ylabel(\"S\")\n",
    "    plt.legend()\n",
    "    plt.xlabel(\"Time (s)\")\n",
    "    \n",
    "    pp.savefig()\n",
    "    plt.close()"
   ]
  },
  {
   "cell_type": "code",
   "execution_count": 26,
   "metadata": {
    "collapsed": false,
    "scrolled": true
   },
   "outputs": [],
   "source": [
    " with PdfPages('../data/exp400/bw3_ex.pdf') as pdf:\n",
    "    names = range(0, 485)\n",
    "    for i in names:\n",
    "        name = \"../data/exp400/{}.npz\".format(i)\n",
    "        \n",
    "        plot(name, pdf)"
   ]
  },
  {
   "cell_type": "code",
   "execution_count": null,
   "metadata": {
    "collapsed": true
   },
   "outputs": [],
   "source": []
  }
 ],
 "metadata": {
  "kernelspec": {
   "display_name": "Python 2",
   "language": "python",
   "name": "python2"
  },
  "language_info": {
   "codemirror_mode": {
    "name": "ipython",
    "version": 2
   },
   "file_extension": ".py",
   "mimetype": "text/x-python",
   "name": "python",
   "nbconvert_exporter": "python",
   "pygments_lexer": "ipython2",
   "version": "2.7.11"
  }
 },
 "nbformat": 4,
 "nbformat_minor": 0
}
