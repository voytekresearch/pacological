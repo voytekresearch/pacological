{
 "cells": [
  {
   "cell_type": "code",
   "execution_count": 7,
   "metadata": {
    "collapsed": false
   },
   "outputs": [],
   "source": [
    "import matplotlib.pyplot as plt\n",
    "# %matplotlib inline\n",
    "from matplotlib.backends.backend_pdf import PdfPages \n",
    "\n",
    "import os, sys\n",
    "import numpy as np\n",
    "from pykdf.kdf import load_kdf"
   ]
  },
  {
   "cell_type": "code",
   "execution_count": 8,
   "metadata": {
    "collapsed": false
   },
   "outputs": [],
   "source": [
    "def plot(name, pp):\n",
    "\n",
    "    res = load_kdf(name)\n",
    "    ys = res['ys']\n",
    "    times = res['times']\n",
    "    idx_r = res['idx_R']\n",
    "    idx_h = res['idx_H']\n",
    "    idx_in = res['idx_IN']\n",
    "    \n",
    "    plt.figure(figsize=(10, 10))\n",
    "\n",
    "    tit = \"d:{:10f}, w_e:{:10f}\\nw_ie:{:10f}, w_ei:{:10f}\\nw_ee:{:10f}, w_ii:{:10f}\".format(\n",
    "        float(res['d']), float(res['w_e']), float(res['w_ie']), float(res['w_ei']), float(res['w_ee']), \n",
    "        float(res['w_ii']))\n",
    "    \n",
    "    n_plot = 3\n",
    "    plot_n = 1\n",
    "    plt.subplot(n_plot, 1, plot_n)\n",
    "    plt.title(tit)\n",
    "    plt.plot(times, ys[:, idx_in], label='IN', color='k')\n",
    "    plt.legend()\n",
    "    plt.ylabel(\"IN\")\n",
    "    plot_n += 1\n",
    "\n",
    "    plt.subplot(n_plot, 1, plot_n)\n",
    "    plt.plot(times, ys[:, idx_r[0]], color='k', label='E')\n",
    "    plt.plot(times, ys[:, idx_r[1]], color='r', label='I')    \n",
    "    plt.legend()\n",
    "    plt.ylabel(\"R\")\n",
    "    plot_n += 1\n",
    "\n",
    "    plt.subplot(n_plot, 1, plot_n)\n",
    "    plt.plot(times, ys[:, idx_h[0]], label='EE')\n",
    "    plt.plot(times, ys[:, idx_h[1]], label='EI')\n",
    "    plt.plot(times, ys[:, idx_h[2]], label='IE')\n",
    "    plt.plot(times, ys[:, idx_h[3]], label='II')\n",
    "    plt.ylabel(\"G\")\n",
    "    plt.legend()\n",
    "    plt.xlabel(\"Time (s)\")\n",
    "    \n",
    "    pp.savefig()\n",
    "    plt.close()"
   ]
  },
  {
   "cell_type": "code",
   "execution_count": 15,
   "metadata": {
    "collapsed": false,
    "scrolled": true
   },
   "outputs": [],
   "source": [
    " with PdfPages('../data/exp400/plots.pdf') as pdf:\n",
    "    names = range(0, 499)\n",
    "    for i in names:\n",
    "        name = \"../data/exp400/{}.hdf5\".format(i)     \n",
    "        plot(name, pdf)\n",
    "        \n",
    "with PdfPages('../data/exp401/plots.pdf') as pdf:\n",
    "    names = range(0, 499)\n",
    "    for i in names:\n",
    "        name = \"../data/exp401/{}.hdf5\".format(i)   \n",
    "        plot(name, pdf)"
   ]
  },
  {
   "cell_type": "code",
   "execution_count": null,
   "metadata": {
    "collapsed": true
   },
   "outputs": [],
   "source": []
  },
  {
   "cell_type": "code",
   "execution_count": null,
   "metadata": {
    "collapsed": true
   },
   "outputs": [],
   "source": []
  }
 ],
 "metadata": {
  "kernelspec": {
   "display_name": "Python [Root]",
   "language": "python",
   "name": "Python [Root]"
  },
  "language_info": {
   "codemirror_mode": {
    "name": "ipython",
    "version": 2
   },
   "file_extension": ".py",
   "mimetype": "text/x-python",
   "name": "python",
   "nbconvert_exporter": "python",
   "pygments_lexer": "ipython2",
   "version": "2.7.12"
  }
 },
 "nbformat": 4,
 "nbformat_minor": 0
}
